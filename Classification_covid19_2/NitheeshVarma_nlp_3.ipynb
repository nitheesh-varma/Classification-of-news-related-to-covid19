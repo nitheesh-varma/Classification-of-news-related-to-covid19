{
 "cells": [
  {
   "cell_type": "code",
   "execution_count": 298,
   "id": "523bd4a4",
   "metadata": {},
   "outputs": [],
   "source": [
    "import pandas as pd\n",
    "import numpy as np\n",
    "import re\n",
    "import sklearn\n",
    "from sklearn import metrics\n",
    "from sklearn.model_selection import train_test_split\n",
    "from sklearn.feature_extraction.text import CountVectorizer\n",
    "from nltk.stem.porter import PorterStemmer\n",
    "from nltk.stem import WordNetLemmatizer\n",
    "from sklearn.linear_model import LogisticRegression"
   ]
  },
  {
   "cell_type": "code",
   "execution_count": 299,
   "id": "52023662",
   "metadata": {},
   "outputs": [],
   "source": [
    "# loading the Primary dataset:\n",
    "nyt_lockdown = pd.read_csv(\"/Users/nitheeshvarma/Documents/NLP/Assignment 2 /NitheeshVarma_nlp_2_final/nyt_lockdowns.csv\")\n",
    "nyt_masking_distancing = pd.read_csv(\"/Users/nitheeshvarma/Documents/NLP/Assignment 2 /NitheeshVarma_nlp_2_final/nyt_masking_and_distancing.csv\")\n",
    "nyt_vaccination = pd.read_csv(\"/Users/nitheeshvarma/Documents/NLP/Assignment 2 /NitheeshVarma_nlp_2_final/nyt_vaccination.csv\")"
   ]
  },
  {
   "cell_type": "code",
   "execution_count": 300,
   "id": "1e71a8ac",
   "metadata": {},
   "outputs": [],
   "source": [
    "# Loading the Secondary dataset:\n",
    "change_lockdown = pd.read_csv(\"/Users/nitheeshvarma/Documents/NLP/Assignment 2 /NitheeshVarma_nlp_2_final/change.org_lockdowns.csv\")\n",
    "change_masking_distancing = pd.read_csv(\"/Users/nitheeshvarma/Documents/NLP/Assignment 2 /NitheeshVarma_nlp_2_final/change.org_masking_and_distancing.csv\")\n",
    "change_vaccination = pd.read_csv(\"/Users/nitheeshvarma/Documents/NLP/Assignment 2 /NitheeshVarma_nlp_2_final/change.org_vaccination.csv\")"
   ]
  },
  {
   "cell_type": "code",
   "execution_count": 301,
   "id": "263576e2",
   "metadata": {},
   "outputs": [],
   "source": [
    "# Data Partitioning\n",
    "# Considering Vaccination among the three topics and doing the splitting.\n",
    "x = nyt_vaccination[\"text\"]\n",
    "y = nyt_vaccination[\"label\"]\n",
    "x_train_nyt,x_test_nyt,y_train_nyt,y_test_nyt = train_test_split(x,y,test_size=0.3,random_state=45)#random_state is a seed value.\n",
    "x_test_change = change_vaccination[\"text\"]\n",
    "y_test_change = change_vaccination[\"label\"]"
   ]
  },
  {
   "cell_type": "code",
   "execution_count": 302,
   "id": "32ae6a3f",
   "metadata": {},
   "outputs": [],
   "source": [
    "# Baseline Model Training\n",
    "vectorizer = CountVectorizer()\n",
    "x_train_nyt_bag = vectorizer.fit_transform(x_train_nyt)\n",
    "x_test_nyt_bag = vectorizer.transform(x_test_nyt)\n",
    "x_test_change_bag = vectorizer.transform(x_test_change)"
   ]
  },
  {
   "cell_type": "code",
   "execution_count": 303,
   "id": "f52e9133",
   "metadata": {},
   "outputs": [],
   "source": [
    "model = LogisticRegression().fit(x_train_nyt_bag.toarray(),y_train_nyt)"
   ]
  },
  {
   "cell_type": "code",
   "execution_count": 304,
   "id": "2f2a646b",
   "metadata": {},
   "outputs": [],
   "source": [
    "model_test_nyt = model.predict(x_test_nyt_bag.toarray())\n",
    "model_test_change = model.predict(x_test_change_bag.toarray())"
   ]
  },
  {
   "cell_type": "code",
   "execution_count": 305,
   "id": "679ecc1d",
   "metadata": {},
   "outputs": [
    {
     "name": "stdout",
     "output_type": "stream",
     "text": [
      "              precision    recall  f1-score   support\n",
      "\n",
      "       False       0.88      0.88      0.88        97\n",
      "        True       0.92      0.92      0.92       147\n",
      "\n",
      "    accuracy                           0.90       244\n",
      "   macro avg       0.90      0.90      0.90       244\n",
      "weighted avg       0.90      0.90      0.90       244\n",
      "\n"
     ]
    }
   ],
   "source": [
    "#Model Evaluation 1\n",
    "print(metrics.classification_report(y_test_nyt,model_test_nyt))"
   ]
  },
  {
   "cell_type": "code",
   "execution_count": 306,
   "id": "fc9a9f3f",
   "metadata": {},
   "outputs": [
    {
     "name": "stdout",
     "output_type": "stream",
     "text": [
      "              precision    recall  f1-score   support\n",
      "\n",
      "       False       0.99      1.00      0.99      1473\n",
      "        True       1.00      0.30      0.46        27\n",
      "\n",
      "    accuracy                           0.99      1500\n",
      "   macro avg       0.99      0.65      0.73      1500\n",
      "weighted avg       0.99      0.99      0.98      1500\n",
      "\n"
     ]
    }
   ],
   "source": [
    "print(metrics.classification_report(y_test_change,model_test_change))"
   ]
  },
  {
   "cell_type": "code",
   "execution_count": 307,
   "id": "cfb2d1a1",
   "metadata": {},
   "outputs": [],
   "source": [
    "#The Baseline Model 1 overall acuuracy for Primary(nyt) and Secondary(change) are 0.90 and 0.99 respectively."
   ]
  },
  {
   "cell_type": "code",
   "execution_count": 308,
   "id": "6ad5bbfa",
   "metadata": {},
   "outputs": [],
   "source": [
    "# Feature Engineering\n",
    "def f1(m):\n",
    "    return int(bool(re.search(\"unvaccinated\",m))) #returns 1 if the word unvaccinated is present"
   ]
  },
  {
   "cell_type": "code",
   "execution_count": 309,
   "id": "192cd04b",
   "metadata": {},
   "outputs": [],
   "source": [
    "def f2(n):\n",
    "    return int(bool(re.search(\"powerful\",n))) # returns 1 if the word powerful is present."
   ]
  },
  {
   "cell_type": "code",
   "execution_count": 310,
   "id": "75970c33",
   "metadata": {},
   "outputs": [],
   "source": [
    "def f3(o):\n",
    "    return int(bool(re.search(\"[A-Z][A-Z]+\",o))) # returns 1 if all the words in the sentence are capital letters."
   ]
  },
  {
   "cell_type": "code",
   "execution_count": 311,
   "id": "73101ac2",
   "metadata": {},
   "outputs": [],
   "source": [
    "# Applying the feature 1 to x_train_nyt, x_test_nyt , x_test_change\n",
    "f1_x_train_nyt = x_train_nyt.apply(f1)\n",
    "f1_x_test_nyt  = x_test_nyt.apply(f1)\n",
    "f1_x_test_change = x_test_change.apply(f1)"
   ]
  },
  {
   "cell_type": "code",
   "execution_count": 312,
   "id": "7789cd97",
   "metadata": {},
   "outputs": [],
   "source": [
    "# Applying the feature 2 to x_train_nyt, x_test_nyt , x_test_change\n",
    "f2_x_train_nyt = x_train_nyt.apply(f2)\n",
    "f2_x_test_nyt  = x_test_nyt.apply(f2)\n",
    "f2_x_test_change = x_test_change.apply(f2)"
   ]
  },
  {
   "cell_type": "code",
   "execution_count": 313,
   "id": "866563fd",
   "metadata": {},
   "outputs": [],
   "source": [
    "# Applying the feature 3 to x_train_nyt, x_test_nyt , x_test_change\n",
    "f3_x_train_nyt = x_train_nyt.apply(f3)\n",
    "f3_x_test_nyt  = x_test_nyt.apply(f3)\n",
    "f3_x_test_change = x_test_change.apply(f3)"
   ]
  },
  {
   "cell_type": "code",
   "execution_count": 314,
   "id": "2cddfebe",
   "metadata": {},
   "outputs": [],
   "source": [
    "# Adding f1 to final \n",
    "nyt_train_final = np.insert(x_train_nyt_bag.toarray(),x_train_nyt_bag.shape[1],f1_x_train_nyt,axis=1)\n",
    "nyt_test_final  = np.insert(x_test_nyt_bag.toarray(),x_test_nyt_bag.shape[1],f1_x_test_nyt,axis=1)\n",
    "change_test_final = np.insert(x_test_change_bag.toarray(),x_test_change_bag.shape[1],f1_x_test_change,axis=1)"
   ]
  },
  {
   "cell_type": "code",
   "execution_count": 315,
   "id": "ab2d22be",
   "metadata": {},
   "outputs": [],
   "source": [
    "# Adding f2 to final\n",
    "nyt_train_final = np.insert(x_train_nyt_bag.toarray(),x_train_nyt_bag.shape[1],f2_x_train_nyt,axis=1)\n",
    "nyt_test_final  = np.insert(x_test_nyt_bag.toarray(),x_test_nyt_bag.shape[1],f2_x_test_nyt,axis=1)\n",
    "change_test_final = np.insert(x_test_change_bag.toarray(),x_test_change_bag.shape[1],f2_x_test_change,axis=1)"
   ]
  },
  {
   "cell_type": "code",
   "execution_count": 316,
   "id": "28ba253b",
   "metadata": {},
   "outputs": [],
   "source": [
    "# Adding f3 to final\n",
    "nyt_train_final = np.insert(x_train_nyt_bag.toarray(),x_train_nyt_bag.shape[1],f3_x_train_nyt,axis=1)\n",
    "nyt_test_final  = np.insert(x_test_nyt_bag.toarray(),x_test_nyt_bag.shape[1],f3_x_test_nyt,axis=1)\n",
    "change_test_final = np.insert(x_test_change_bag.toarray(),x_test_change_bag.shape[1],f3_x_test_change,axis=1)"
   ]
  },
  {
   "cell_type": "code",
   "execution_count": 317,
   "id": "30de65c2",
   "metadata": {},
   "outputs": [],
   "source": [
    "model_2 = LogisticRegression().fit(nyt_train_final,y_train_nyt)"
   ]
  },
  {
   "cell_type": "code",
   "execution_count": 318,
   "id": "2fa6659d",
   "metadata": {},
   "outputs": [],
   "source": [
    "model_2_test_nyt = model_2.predict(nyt_test_final)\n",
    "model_2_test_change = model_2.predict(change_test_final)"
   ]
  },
  {
   "cell_type": "code",
   "execution_count": 319,
   "id": "461390eb",
   "metadata": {},
   "outputs": [
    {
     "name": "stdout",
     "output_type": "stream",
     "text": [
      "              precision    recall  f1-score   support\n",
      "\n",
      "       False       0.89      0.88      0.88        97\n",
      "        True       0.92      0.93      0.92       147\n",
      "\n",
      "    accuracy                           0.91       244\n",
      "   macro avg       0.90      0.90      0.90       244\n",
      "weighted avg       0.91      0.91      0.91       244\n",
      "\n"
     ]
    }
   ],
   "source": [
    "#Model Evaluation 2:\n",
    "print(metrics.classification_report(y_test_nyt,model_2_test_nyt))"
   ]
  },
  {
   "cell_type": "code",
   "execution_count": 320,
   "id": "80de1e93",
   "metadata": {},
   "outputs": [
    {
     "name": "stdout",
     "output_type": "stream",
     "text": [
      "              precision    recall  f1-score   support\n",
      "\n",
      "       False       0.99      1.00      0.99      1473\n",
      "        True       1.00      0.33      0.50        27\n",
      "\n",
      "    accuracy                           0.99      1500\n",
      "   macro avg       0.99      0.67      0.75      1500\n",
      "weighted avg       0.99      0.99      0.99      1500\n",
      "\n"
     ]
    }
   ],
   "source": [
    "print(metrics.classification_report(y_test_change,model_2_test_change))"
   ]
  },
  {
   "cell_type": "code",
   "execution_count": 321,
   "id": "bb193dcf",
   "metadata": {},
   "outputs": [],
   "source": [
    "# Reflection:\n",
    "#The Baseline Model 2 overall acuuracy for Primary(nyt) and Secondary(change) are 0.91 and 0.99 respectively.\n",
    "#For Primary(nyt) there was a slight increase in accuracy whereas for secondary the accuracy remains the same."
   ]
  }
 ],
 "metadata": {
  "kernelspec": {
   "display_name": "Python 3",
   "language": "python",
   "name": "python3"
  },
  "language_info": {
   "codemirror_mode": {
    "name": "ipython",
    "version": 3
   },
   "file_extension": ".py",
   "mimetype": "text/x-python",
   "name": "python",
   "nbconvert_exporter": "python",
   "pygments_lexer": "ipython3",
   "version": "3.8.8"
  }
 },
 "nbformat": 4,
 "nbformat_minor": 5
}
