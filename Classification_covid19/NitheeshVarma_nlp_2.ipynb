{
 "cells": [
  {
   "cell_type": "code",
   "execution_count": 1,
   "id": "67c69841",
   "metadata": {},
   "outputs": [],
   "source": [
    "import os\n",
    "import pandas as pd\n",
    "from pathlib import Path\n",
    "from sklearn.metrics import cohen_kappa_score\n",
    "from itertools import combinations"
   ]
  },
  {
   "cell_type": "code",
   "execution_count": 2,
   "id": "0ee5dc0d",
   "metadata": {},
   "outputs": [],
   "source": [
    "# From Base Path to nyt-topic and change.org-topic datasets\n",
    "folder_1 = '/Users/nitheeshvarma/Desktop/Nitheesh_Varma_2/nyt_topic'\n",
    "folder_2 = '/Users/nitheeshvarma/Desktop/Nitheesh_Varma_2/change.org_topic'"
   ]
  },
  {
   "cell_type": "code",
   "execution_count": 3,
   "id": "06f63319",
   "metadata": {},
   "outputs": [],
   "source": [
    "for file_Name in os.listdir(folder_1):\n",
    "    if file_Name not in [\"lockdowns\",\"masking_and_distancing\",\"vaccination\"]:\n",
    "        file_Path = folder_1 + '/' + file_Name\n",
    "        %run script.py --infile $file_Path  "
   ]
  },
  {
   "cell_type": "code",
   "execution_count": 4,
   "id": "ff8712cf",
   "metadata": {},
   "outputs": [],
   "source": [
    "for file_Name in os.listdir(folder_2):\n",
    "        if file_Name not in [\"lockdowns\",\"masking_and_distancing\",\"vaccination\"]:\n",
    "            file_Path = folder_2 + '/' + file_Name\n",
    "            %run script.py --infile $file_Path "
   ]
  },
  {
   "cell_type": "code",
   "execution_count": 5,
   "id": "66d96f92",
   "metadata": {},
   "outputs": [],
   "source": [
    "def pre_processing(file):\n",
    "    df = pd.read_csv(file)\n",
    "    for column in df.columns[1:]:\n",
    "        df[column] = df[column].astype(str)\n",
    "    # Using the label missing to handle the missing values\n",
    "    df = df.fillna(\"missing\")\n",
    "    return df"
   ]
  },
  {
   "cell_type": "code",
   "execution_count": 6,
   "id": "ae26a823",
   "metadata": {},
   "outputs": [],
   "source": [
    "def Part_1(df):\n",
    "    \n",
    "    # Getting the column names and the number of annotators\n",
    "    x = list(df.columns[1:])\n",
    "    x_len = len(x)\n",
    "      \n",
    "    # Calculating the Average kappa Score for each annotator\n",
    "    kappa_scores = {}\n",
    "    t = 0\n",
    "    d = 0\n",
    "    for k in df.columns[1:]:\n",
    "        for c in list(combinations(df.columns[1:], 2)):\n",
    "            if k in c:\n",
    "                kappa = cohen_kappa_score(df[c[0]], df[c[1]])\n",
    "                d += kappa\n",
    "                t = t + 1\n",
    "        kappa_scores[k] = d/(len(x) - 1)  \n",
    "        d = 0 \n",
    "        \n",
    "    # Removing annotators where average kappa score < 0.2\n",
    "    for key, value in kappa_scores.items():\n",
    "        if value < 0.2:\n",
    "            df = df.drop([key],axis=1)   \n",
    "    x = list(df.columns[1:])\n",
    "    x \n",
    "    return df, kappa_scores, x    "
   ]
  },
  {
   "cell_type": "code",
   "execution_count": 7,
   "id": "98d32da5",
   "metadata": {},
   "outputs": [],
   "source": [
    "def Part_2(df, kappa_scores, x):\n",
    "    count_True = 0\n",
    "    count_False = 0\n",
    "    count_Missing = 0\n",
    "    kappa_True = 0\n",
    "    kappa_False=0\n",
    "    kappa_Missing = 0\n",
    "\n",
    "    for index, row in df.iterrows():\n",
    "        for k in x:\n",
    "            if row[k] == \"True\":\n",
    "                count_True += 1\n",
    "                kappa_True += kappa_scores[k]\n",
    "            if row[k] == \"False\":\n",
    "                count_False += 1\n",
    "                kappa_False += kappa_scores[k]\n",
    "            if row[k] == \"missing\":\n",
    "                count_Missing += 1\n",
    "                kappa_Missing += kappa_scores[k]\n",
    "     \n",
    "        # Finding Average Kappa Score for individual labels\n",
    "        if count_True != 0:\n",
    "            kappa_True = kappa_True / count_True\n",
    "        if count_False != 0:\n",
    "            kappa_False = kappa_False / count_False\n",
    "        if count_Missing != 0:\n",
    "            kappa_Missing = kappa_Missing / count_Missing\n",
    "\n",
    "        # Checking which label has highest count.\n",
    "        if count_True > count_False and  count_True > count_Missing:\n",
    "            label = \"True\"\n",
    "        if count_False > count_True  and count_False > count_Missing:\n",
    "            label = \"False\"\n",
    "        if count_Missing > count_True  and count_Missing > count_False:  \n",
    "            label = \"missing\"\n",
    "    \n",
    "        # Checking if two labels have same count and not equal to 0\n",
    "        if count_True == count_False and count_True != 0:\n",
    "            if kappa_True > kappa_False:\n",
    "                label = \"True\"\n",
    "            else:\n",
    "                label = \"False\"\n",
    "    \n",
    "        if count_True == count_Missing and count_True != 0:\n",
    "            if kappa_True > kappa_Missing:\n",
    "                label = \"True\"\n",
    "            else:\n",
    "                label = \"missing\"\n",
    "    \n",
    "        if count_False == count_Missing and count_False != 0:\n",
    "            if kappa_False > kappa_Missing:\n",
    "                label = \"False\"\n",
    "            else: \n",
    "                label = \"missing\"\n",
    "              \n",
    "        df.at[index,'label'] = label\n",
    "        \n",
    "        count_True = 0\n",
    "        count_False = 0\n",
    "        count_Missing = 0\n",
    "        kappa_True = 0\n",
    "        kappa_False=0\n",
    "        kappa_Missing = 0\n",
    "\n",
    "    df = df.drop(x,axis=1)     \n",
    "    return df"
   ]
  },
  {
   "cell_type": "code",
   "execution_count": 8,
   "id": "19d881ad",
   "metadata": {},
   "outputs": [],
   "source": [
    "def process(file):\n",
    "    df = pre_processing(file)\n",
    "    df, kappa_scores, x = Part_1(df)\n",
    "    df = Part_2(df, kappa_scores, x)\n",
    "    df.to_csv(file, index=False)"
   ]
  },
  {
   "cell_type": "code",
   "execution_count": 9,
   "id": "69047605",
   "metadata": {
    "scrolled": true
   },
   "outputs": [],
   "source": [
    "for file in os.listdir(folder_1):\n",
    "    if file.endswith(\".csv\") and ((\"lockdowns\" in file) or (\"masking_and_distancing\" in file) or (\"vaccination\" in file)):\n",
    "        full_path = folder_1 + '/' + file\n",
    "        process(full_path)"
   ]
  },
  {
   "cell_type": "code",
   "execution_count": 10,
   "id": "b9c2eff2",
   "metadata": {},
   "outputs": [],
   "source": [
    "for file in os.listdir(folder_2):\n",
    "    if file.endswith(\".csv\") and ((\"lockdowns\" in file) or (\"masking_and_distancing\" in file) or (\"vaccination\" in file)):\n",
    "        full_path = folder_2 + '/' + file\n",
    "        process(full_path)"
   ]
  },
  {
   "cell_type": "code",
   "execution_count": 11,
   "id": "0bca6761",
   "metadata": {},
   "outputs": [],
   "source": [
    "# Merging all the csv files related to lockdowns for nyt-topic dataset\n",
    "dataframes = []\n",
    "for file in os.listdir(folder_1):\n",
    "    if file.endswith(\".csv\") and ((\"lockdowns\" in file)) :\n",
    "        full_path = folder_1 + '/' + file\n",
    "        dataframes.append(pd.read_csv(full_path))\n",
    "\n",
    "result = pd.concat(dataframes)\n",
    "file_name = folder_1 + '/' + \"nyt_lockdowns.csv\"\n",
    "result.to_csv(file_name, index=False)"
   ]
  },
  {
   "cell_type": "code",
   "execution_count": 12,
   "id": "943ea265",
   "metadata": {},
   "outputs": [],
   "source": [
    "# Merging all the csv files related to masking_and_distancing for nyt-topic dataset\n",
    "dataframes = []\n",
    "for file in os.listdir(folder_1):\n",
    "    if file.endswith(\".csv\") and ((\"masking_and_distancing\" in file)) :\n",
    "        full_path = folder_1 + '/' + file\n",
    "        dataframes.append(pd.read_csv(full_path))\n",
    "\n",
    "result = pd.concat(dataframes)\n",
    "file_name = folder_1 + '/' + \"nyt_masking_and_distancing.csv\"\n",
    "result.to_csv(file_name, index=False)"
   ]
  },
  {
   "cell_type": "code",
   "execution_count": 13,
   "id": "9df7c677",
   "metadata": {},
   "outputs": [],
   "source": [
    "# Merging all the csv files related to vaccination for nyt-topic dataset\n",
    "dataframes = []\n",
    "for file in os.listdir(folder_1):\n",
    "    if file.endswith(\".csv\") and ((\"vaccination\" in file)) :\n",
    "        full_path = folder_1 + '/' + file\n",
    "        dataframes.append(pd.read_csv(full_path))\n",
    "\n",
    "result = pd.concat(dataframes)\n",
    "result.head()\n",
    "file_name = folder_1 + '/' + \"nyt_vaccination.csv\"\n",
    "result.to_csv(file_name, index=False)"
   ]
  },
  {
   "cell_type": "code",
   "execution_count": 14,
   "id": "b7210c51",
   "metadata": {},
   "outputs": [],
   "source": [
    "# Merging all the csv files related to lockdowns for change.org dataset\n",
    "dataframes = []\n",
    "for file in os.listdir(folder_2):\n",
    "    if file.endswith(\".csv\") and ((\"lockdowns\" in file)) :\n",
    "        full_path = folder_2 + '/' + file\n",
    "        dataframes.append(pd.read_csv(full_path))\n",
    "\n",
    "result = pd.concat(dataframes)\n",
    "file_name = folder_2 + '/' + \"change.org_lockdowns.csv\"\n",
    "result.to_csv(file_name, index=False)"
   ]
  },
  {
   "cell_type": "code",
   "execution_count": 15,
   "id": "4395d6d7",
   "metadata": {},
   "outputs": [],
   "source": [
    "# Merging all the csv files related to masking_and_distancing for change.org dataset\n",
    "dataframes = []\n",
    "for file in os.listdir(folder_2):\n",
    "    if file.endswith(\".csv\") and ((\"masking_and_distancing\" in file)) :\n",
    "        full_path = folder_2 + '/' + file\n",
    "        dataframes.append(pd.read_csv(full_path))\n",
    "\n",
    "result = pd.concat(dataframes)\n",
    "file_name = folder_2 + '/' + \"change.org_masking_and_distancing.csv\"\n",
    "result.to_csv(file_name, index=False)"
   ]
  },
  {
   "cell_type": "code",
   "execution_count": 16,
   "id": "fbf4ccf1",
   "metadata": {},
   "outputs": [],
   "source": [
    "# Merging all the csv files related to vaccination for change.org dataset\n",
    "dataframes = []\n",
    "for file in os.listdir(folder_2):\n",
    "    if file.endswith(\".csv\") and ((\"vaccination\" in file)) :\n",
    "        full_path = folder_2 + '/' + file\n",
    "        dataframes.append(pd.read_csv(full_path))\n",
    "\n",
    "result = pd.concat(dataframes)\n",
    "file_name = folder_2 + '/' + \"change.org_vaccination.csv\"\n",
    "result.to_csv(file_name, index=False)"
   ]
  },
  {
   "cell_type": "code",
   "execution_count": null,
   "id": "2e0a8c62",
   "metadata": {},
   "outputs": [],
   "source": []
  },
  {
   "cell_type": "code",
   "execution_count": null,
   "id": "c3a70e77",
   "metadata": {},
   "outputs": [],
   "source": []
  }
 ],
 "metadata": {
  "kernelspec": {
   "display_name": "Python 3",
   "language": "python",
   "name": "python3"
  },
  "language_info": {
   "codemirror_mode": {
    "name": "ipython",
    "version": 3
   },
   "file_extension": ".py",
   "mimetype": "text/x-python",
   "name": "python",
   "nbconvert_exporter": "python",
   "pygments_lexer": "ipython3",
   "version": "3.8.8"
  }
 },
 "nbformat": 4,
 "nbformat_minor": 5
}
